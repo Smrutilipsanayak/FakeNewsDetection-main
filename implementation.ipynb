{
 "cells": [
  {
   "cell_type": "code",
   "execution_count": null,
   "metadata": {},
   "outputs": [],
   "source": [
    "#!pip install pandas"
   ]
  },
  {
   "cell_type": "code",
   "execution_count": 1,
   "metadata": {},
   "outputs": [],
   "source": [
    "import  random\n",
    "import pandas as pd\n",
    "from flask import Flask, request, jsonify\n",
    "\n",
    "import joblib\n",
    "import re\n",
    "import string\n",
    "\n",
    "\n",
    "df = pd.read_csv('./dataset/indian-news-dataset-updated.csv')\n"
   ]
  },
  {
   "cell_type": "code",
   "execution_count": 2,
   "metadata": {},
   "outputs": [
    {
     "data": {
      "text/html": [
       "<div>\n",
       "<style scoped>\n",
       "    .dataframe tbody tr th:only-of-type {\n",
       "        vertical-align: middle;\n",
       "    }\n",
       "\n",
       "    .dataframe tbody tr th {\n",
       "        vertical-align: top;\n",
       "    }\n",
       "\n",
       "    .dataframe thead th {\n",
       "        text-align: right;\n",
       "    }\n",
       "</style>\n",
       "<table border=\"1\" class=\"dataframe\">\n",
       "  <thead>\n",
       "    <tr style=\"text-align: right;\">\n",
       "      <th></th>\n",
       "      <th>label</th>\n",
       "      <th>text</th>\n",
       "    </tr>\n",
       "  </thead>\n",
       "  <tbody>\n",
       "    <tr>\n",
       "      <th>0</th>\n",
       "      <td>REAL</td>\n",
       "      <td>Payal has accused filmmaker Anurag Kashyap of ...</td>\n",
       "    </tr>\n",
       "    <tr>\n",
       "      <th>1</th>\n",
       "      <td>FAKE</td>\n",
       "      <td>A four-minute-long video of a woman criticisin...</td>\n",
       "    </tr>\n",
       "    <tr>\n",
       "      <th>2</th>\n",
       "      <td>FAKE</td>\n",
       "      <td>Republic Poll, a fake Twitter account imitatin...</td>\n",
       "    </tr>\n",
       "    <tr>\n",
       "      <th>3</th>\n",
       "      <td>REAL</td>\n",
       "      <td>Delhi teen finds place on UN green list, turns...</td>\n",
       "    </tr>\n",
       "    <tr>\n",
       "      <th>4</th>\n",
       "      <td>REAL</td>\n",
       "      <td>Delhi: A high-level meeting underway at reside...</td>\n",
       "    </tr>\n",
       "    <tr>\n",
       "      <th>5</th>\n",
       "      <td>REAL</td>\n",
       "      <td>ROME: Novak Djokovic knows it isn't model beha...</td>\n",
       "    </tr>\n",
       "    <tr>\n",
       "      <th>6</th>\n",
       "      <td>FAKE</td>\n",
       "      <td>A viral image showing controversial Islamic pr...</td>\n",
       "    </tr>\n",
       "    <tr>\n",
       "      <th>7</th>\n",
       "      <td>FAKE</td>\n",
       "      <td>Several photos are being shared with the misle...</td>\n",
       "    </tr>\n",
       "    <tr>\n",
       "      <th>8</th>\n",
       "      <td>FAKE</td>\n",
       "      <td>The driver of the DMU train Arvind Kumar has N...</td>\n",
       "    </tr>\n",
       "    <tr>\n",
       "      <th>9</th>\n",
       "      <td>FAKE</td>\n",
       "      <td>An old video of a Dassault Rafale aircraft's s...</td>\n",
       "    </tr>\n",
       "    <tr>\n",
       "      <th>10</th>\n",
       "      <td>REAL</td>\n",
       "      <td>Ahmedabad: Crime branch sleuths on Friday held...</td>\n",
       "    </tr>\n",
       "    <tr>\n",
       "      <th>11</th>\n",
       "      <td>FAKE</td>\n",
       "      <td>A video clip of journalist Abhisar Sharma with...</td>\n",
       "    </tr>\n",
       "    <tr>\n",
       "      <th>12</th>\n",
       "      <td>REAL</td>\n",
       "      <td>Ludhiana: The drain coverage projects have rem...</td>\n",
       "    </tr>\n",
       "    <tr>\n",
       "      <th>13</th>\n",
       "      <td>REAL</td>\n",
       "      <td>NEW DELHI: Seven of the top 10 most valued dom...</td>\n",
       "    </tr>\n",
       "    <tr>\n",
       "      <th>14</th>\n",
       "      <td>FAKE</td>\n",
       "      <td>A video showing the appalling conditions insid...</td>\n",
       "    </tr>\n",
       "    <tr>\n",
       "      <th>15</th>\n",
       "      <td>FAKE</td>\n",
       "      <td>A woman whose photos were stolen to create the...</td>\n",
       "    </tr>\n",
       "    <tr>\n",
       "      <th>16</th>\n",
       "      <td>REAL</td>\n",
       "      <td>Delhi: A high-level meeting underway at reside...</td>\n",
       "    </tr>\n",
       "    <tr>\n",
       "      <th>17</th>\n",
       "      <td>REAL</td>\n",
       "      <td>NEW DELHI: As many as 21 states, mostly ruled ...</td>\n",
       "    </tr>\n",
       "    <tr>\n",
       "      <th>18</th>\n",
       "      <td>REAL</td>\n",
       "      <td>Kareena Kapoor Khan, who is all set to ring in...</td>\n",
       "    </tr>\n",
       "    <tr>\n",
       "      <th>19</th>\n",
       "      <td>FAKE</td>\n",
       "      <td>A viral WhatsApp forward claiming the life of ...</td>\n",
       "    </tr>\n",
       "  </tbody>\n",
       "</table>\n",
       "</div>"
      ],
      "text/plain": [
       "   label                                               text\n",
       "0   REAL  Payal has accused filmmaker Anurag Kashyap of ...\n",
       "1   FAKE  A four-minute-long video of a woman criticisin...\n",
       "2   FAKE  Republic Poll, a fake Twitter account imitatin...\n",
       "3   REAL  Delhi teen finds place on UN green list, turns...\n",
       "4   REAL  Delhi: A high-level meeting underway at reside...\n",
       "5   REAL  ROME: Novak Djokovic knows it isn't model beha...\n",
       "6   FAKE  A viral image showing controversial Islamic pr...\n",
       "7   FAKE  Several photos are being shared with the misle...\n",
       "8   FAKE  The driver of the DMU train Arvind Kumar has N...\n",
       "9   FAKE  An old video of a Dassault Rafale aircraft's s...\n",
       "10  REAL  Ahmedabad: Crime branch sleuths on Friday held...\n",
       "11  FAKE  A video clip of journalist Abhisar Sharma with...\n",
       "12  REAL  Ludhiana: The drain coverage projects have rem...\n",
       "13  REAL  NEW DELHI: Seven of the top 10 most valued dom...\n",
       "14  FAKE  A video showing the appalling conditions insid...\n",
       "15  FAKE  A woman whose photos were stolen to create the...\n",
       "16  REAL  Delhi: A high-level meeting underway at reside...\n",
       "17  REAL  NEW DELHI: As many as 21 states, mostly ruled ...\n",
       "18  REAL  Kareena Kapoor Khan, who is all set to ring in...\n",
       "19  FAKE  A viral WhatsApp forward claiming the life of ..."
      ]
     },
     "execution_count": 2,
     "metadata": {},
     "output_type": "execute_result"
    }
   ],
   "source": [
    "df.head(20)"
   ]
  },
  {
   "cell_type": "code",
   "execution_count": 7,
   "metadata": {},
   "outputs": [
    {
     "data": {
      "text/plain": [
       "\"NEW DELHI: Seven of the top 10 most valued domestic companies saw a combined erosion of Rs 59,259.58 crore in their market valuation last week , with Hindustan Unilever , HDFC Bank and Kotak Mahindra Bank emerging as major laggards.The seven firms clocking losses in their market capitalisation (m-cap) were Hindustan Unilever (HUL), HDFC Bank, Kotak Mahindra Bank, Reliance Industries , HDFC, ITC and ICICI Bank.In contrast, Tata Consultancy Services (TCS), Infosys and Bharti Airtel saw gains in their valuation for the trading week closed on Friday.HUL's m-cap plummeted Rs 14,320.54 crore to Rs 4,93,007.39 crore, HDFC Bank's valuation tumbled Rs 11,611.6 crore to Rs 5,81,900.65 crore and Kotak Mahindra Bank's market worth tanked Rs 10,205.11 crore to Rs 2,53,002.13 crore.The market cap of RIL eroded by Rs 9,027.32 crore to Rs 15,58,987.77 crore and that of HDFC declined Rs 8,144.93 crore to Rs 3,09,076.75 crore.ITC's valuation fell by Rs 5,783.23 crore to Rs 2,20,500.76 crore and ICICI Bank's m-cap dipped Rs 166.85 crore to Rs 2,55,082.88 crore.On the other hand, TCS added Rs 28,912.12 crore to take its valuation to Rs 9,19,615.68 crore.Tata Consultancy Services on Monday became the second Indian company to attain a market valuation of Rs 9 lakh crore after Reliance Industries.The valuation of Infosys jumped by Rs 24,342.45 crore to Rs 4,27,025.67 crore and that of Bharti Airtel rose by Rs 2,755.05 crore to Rs 2,70,977.53 crore.In the ranking of top 10 companies in terms of m-cap, RIL was ruling the chart followed by TCS, HDFC Bank, HUL, Infosys, HDFC, Bharti Airtel, ICICI Bank, Kotak Mahindra Bank and ITC.During the last week, the BSE benchmark Sensex dropped 8.73 points or 0.02 per cent.\""
      ]
     },
     "execution_count": 7,
     "metadata": {},
     "output_type": "execute_result"
    }
   ],
   "source": [
    "#text_data = df.iloc[:, 1].tolist()\n",
    "text_data = df.iloc[13]\n",
    "text_data= text_data.text\n",
    "text_data"
   ]
  },
  {
   "cell_type": "code",
   "execution_count": 8,
   "metadata": {},
   "outputs": [],
   "source": [
    "if isinstance(text_data, str):\n",
    "    news = [text_data]\n",
    "  "
   ]
  },
  {
   "cell_type": "code",
   "execution_count": 9,
   "metadata": {},
   "outputs": [
    {
     "data": {
      "text/plain": [
       "[\"NEW DELHI: Seven of the top 10 most valued domestic companies saw a combined erosion of Rs 59,259.58 crore in their market valuation last week , with Hindustan Unilever , HDFC Bank and Kotak Mahindra Bank emerging as major laggards.The seven firms clocking losses in their market capitalisation (m-cap) were Hindustan Unilever (HUL), HDFC Bank, Kotak Mahindra Bank, Reliance Industries , HDFC, ITC and ICICI Bank.In contrast, Tata Consultancy Services (TCS), Infosys and Bharti Airtel saw gains in their valuation for the trading week closed on Friday.HUL's m-cap plummeted Rs 14,320.54 crore to Rs 4,93,007.39 crore, HDFC Bank's valuation tumbled Rs 11,611.6 crore to Rs 5,81,900.65 crore and Kotak Mahindra Bank's market worth tanked Rs 10,205.11 crore to Rs 2,53,002.13 crore.The market cap of RIL eroded by Rs 9,027.32 crore to Rs 15,58,987.77 crore and that of HDFC declined Rs 8,144.93 crore to Rs 3,09,076.75 crore.ITC's valuation fell by Rs 5,783.23 crore to Rs 2,20,500.76 crore and ICICI Bank's m-cap dipped Rs 166.85 crore to Rs 2,55,082.88 crore.On the other hand, TCS added Rs 28,912.12 crore to take its valuation to Rs 9,19,615.68 crore.Tata Consultancy Services on Monday became the second Indian company to attain a market valuation of Rs 9 lakh crore after Reliance Industries.The valuation of Infosys jumped by Rs 24,342.45 crore to Rs 4,27,025.67 crore and that of Bharti Airtel rose by Rs 2,755.05 crore to Rs 2,70,977.53 crore.In the ranking of top 10 companies in terms of m-cap, RIL was ruling the chart followed by TCS, HDFC Bank, HUL, Infosys, HDFC, Bharti Airtel, ICICI Bank, Kotak Mahindra Bank and ITC.During the last week, the BSE benchmark Sensex dropped 8.73 points or 0.02 per cent.\"]"
      ]
     },
     "execution_count": 9,
     "metadata": {},
     "output_type": "execute_result"
    }
   ],
   "source": [
    "news"
   ]
  },
  {
   "cell_type": "markdown",
   "metadata": {},
   "source": [
    "#test cases:---------------------------------"
   ]
  },
  {
   "cell_type": "code",
   "execution_count": 10,
   "metadata": {},
   "outputs": [
    {
     "name": "stdout",
     "output_type": "stream",
     "text": [
      "Text: NEW DELHI: Seven of the top 10 most valued domestic companie... -> Prediction: REAL\n"
     ]
    }
   ],
   "source": [
    "import pickle\n",
    "\n",
    "# # Load the pipeline model from the file\n",
    "with open('nlp_fnd_model.pkl', 'rb') as model_file:\n",
    "    loaded_pipeline = pickle.load(model_file)\n",
    "\n",
    "# # Make predictions\n",
    "predictions = loaded_pipeline.predict(news)\n",
    "\n",
    "# # Print predictions\n",
    "for case, prediction in zip(news, predictions):\n",
    "    print(f\"Text: {case[:60]}... -> Prediction: {prediction}\")"
   ]
  }
 ],
 "metadata": {
  "kernelspec": {
   "display_name": "Python 3",
   "language": "python",
   "name": "python3"
  },
  "language_info": {
   "codemirror_mode": {
    "name": "ipython",
    "version": 3
   },
   "file_extension": ".py",
   "mimetype": "text/x-python",
   "name": "python",
   "nbconvert_exporter": "python",
   "pygments_lexer": "ipython3",
   "version": "3.12.3"
  }
 },
 "nbformat": 4,
 "nbformat_minor": 2
}
